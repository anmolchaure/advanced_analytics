{
  "nbformat": 4,
  "nbformat_minor": 0,
  "metadata": {
    "colab": {
      "provenance": [],
      "authorship_tag": "ABX9TyP/6veY5/Wr34OtP+ojCIW5",
      "include_colab_link": true
    },
    "kernelspec": {
      "name": "python3",
      "display_name": "Python 3"
    },
    "language_info": {
      "name": "python"
    }
  },
  "cells": [
    {
      "cell_type": "markdown",
      "metadata": {
        "id": "view-in-github",
        "colab_type": "text"
      },
      "source": [
        "<a href=\"https://colab.research.google.com/github/anmolchaure/advanced_analytics/blob/main/exp2.ipynb\" target=\"_parent\"><img src=\"https://colab.research.google.com/assets/colab-badge.svg\" alt=\"Open In Colab\"/></a>"
      ]
    },
    {
      "cell_type": "markdown",
      "source": [
        "## Problem Statement:\n",
        "\n",
        "You are managing a small lemonade stand and need to perform some basic financial calculations. Given the quantity of lemonades sold, unit price, and other financial data, you are required to write Python functions to calculate the following:\n",
        "\n",
        "- Total revenue: The total amount of money earned from selling lemonades.\n",
        "- Total cost: The total cost incurred in producing and selling the lemonades.\n",
        "- Profit: The difference between total revenue and total cost."
      ],
      "metadata": {
        "id": "T7Lczc7HtTMJ"
      }
    },
    {
      "cell_type": "code",
      "source": [
        "# Lemonade stand data: (quantity_sold, unit_price)\n",
        "\n",
        "quantity_sold = input(\"Number of lemonade sold: \")\n",
        "unit_price = input(\"Price of one lemonade\")"
      ],
      "metadata": {
        "id": "iKLQCztPtV-H"
      },
      "execution_count": null,
      "outputs": []
    },
    {
      "cell_type": "markdown",
      "source": [
        "## Tasks:\n",
        "\n",
        "Write Python functions to calculate the total revenue, total cost, and profit based on the provided data.\n",
        "Test your functions with the provided data.\n",
        "Print the calculated values for each metric."
      ],
      "metadata": {
        "id": "z0mV5YG8tilC"
      }
    },
    {
      "cell_type": "code",
      "source": [
        "#total_revenue =\n",
        "#total_cost =\n",
        "#profit ="
      ],
      "metadata": {
        "id": "5KKcsAvTtfxa"
      },
      "execution_count": null,
      "outputs": []
    },
    {
      "cell_type": "code",
      "source": [
        "print(\"Total revenue = \", total_revenue)\n",
        "print(\"Total cost = \", total_cost)\n",
        "print(\"Total revenue = \", profit)\n"
      ],
      "metadata": {
        "id": "Fb-FqL5WuINT"
      },
      "execution_count": null,
      "outputs": []
    }
  ]
}