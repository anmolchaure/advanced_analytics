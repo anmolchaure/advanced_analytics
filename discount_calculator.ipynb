{
  "nbformat": 4,
  "nbformat_minor": 0,
  "metadata": {
    "colab": {
      "provenance": [],
      "authorship_tag": "ABX9TyNbzk/tgofO9X+Su3VBREw5",
      "include_colab_link": true
    },
    "kernelspec": {
      "name": "python3",
      "display_name": "Python 3"
    },
    "language_info": {
      "name": "python"
    }
  },
  "cells": [
    {
      "cell_type": "markdown",
      "metadata": {
        "id": "view-in-github",
        "colab_type": "text"
      },
      "source": [
        "<a href=\"https://colab.research.google.com/github/anmolchaure/advanced_analytics/blob/main/discount_calculator.ipynb\" target=\"_parent\"><img src=\"https://colab.research.google.com/assets/colab-badge.svg\" alt=\"Open In Colab\"/></a>"
      ]
    },
    {
      "cell_type": "markdown",
      "source": [
        "## Discount Calculation\n",
        "\n",
        "Problem: Write a program to calculate the final price of a product after applying a discount based on the purchase amount. If the purchase amount is greater than ₹1000, apply a discount of 10%; otherwise, apply a discount of 5%.\n",
        "\n"
      ],
      "metadata": {
        "id": "_vJqbjDYu6XM"
      }
    },
    {
      "cell_type": "code",
      "source": [
        "purchase_amount = float(input(\"Enter the purchase amount: \"))\n",
        "\n",
        "if purchase_amount > 1000:\n",
        "    discount = 0.1\n",
        "else:\n",
        "    discount = 0.05\n",
        "\n",
        "final_price = purchase_amount - (purchase_amount * discount)\n",
        "print(\"Final price after discount:\", final_price)\n"
      ],
      "metadata": {
        "id": "WgcI5p_tvAiF"
      },
      "execution_count": null,
      "outputs": []
    },
    {
      "cell_type": "markdown",
      "source": [
        "## Grade Calculation\n",
        "\n",
        "Problem: Write a program to determine the grade of a student based on their score. If the score is 90 or above, assign grade 'A'; if the score is between 80 and 89, assign grade 'B'; if the score is between 70 and 79, assign grade 'C'; otherwise, assign grade 'D'."
      ],
      "metadata": {
        "id": "qmVo2OmmvJOu"
      }
    },
    {
      "cell_type": "code",
      "source": [
        "score = int(input(\"Enter the student's score: \"))\n",
        "\n",
        "if score >= 90:\n",
        "    grade = 'A'\n",
        "elif score >= 80:\n",
        "    grade = 'B'\n",
        "elif score >= 70:\n",
        "    grade = 'C'\n",
        "else:\n",
        "    grade = 'D'\n",
        "\n",
        "print(\"Student's grade:\", grade)\n"
      ],
      "metadata": {
        "id": "baNAsGvhvI8Z"
      },
      "execution_count": null,
      "outputs": []
    }
  ]
}