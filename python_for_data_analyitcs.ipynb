{
  "nbformat": 4,
  "nbformat_minor": 0,
  "metadata": {
    "colab": {
      "provenance": [],
      "authorship_tag": "ABX9TyO6RH6ocA85TZEDWUnFv6LR",
      "include_colab_link": true
    },
    "kernelspec": {
      "name": "python3",
      "display_name": "Python 3"
    },
    "language_info": {
      "name": "python"
    }
  },
  "cells": [
    {
      "cell_type": "markdown",
      "metadata": {
        "id": "view-in-github",
        "colab_type": "text"
      },
      "source": [
        "<a href=\"https://colab.research.google.com/github/anmolchaure/advanced_analytics/blob/main/python_for_data_analyitcs.ipynb\" target=\"_parent\"><img src=\"https://colab.research.google.com/assets/colab-badge.svg\" alt=\"Open In Colab\"/></a>"
      ]
    },
    {
      "cell_type": "markdown",
      "source": [
        "## What are variables?\n",
        "One of the most powerful features of a programming language is the ability to manipulate variables. A variable is a name that refers to a value.\n",
        "\n"
      ],
      "metadata": {
        "id": "bb5ODTDP7kTC"
      }
    },
    {
      "cell_type": "code",
      "execution_count": 1,
      "metadata": {
        "id": "sGE8Z3lG7UIf"
      },
      "outputs": [],
      "source": [
        "#An assignment statement creates new variables and gives them values:\n",
        "\n",
        "message = 'And now for something completely different'\n",
        "n = 17\n",
        "pi = 3.1415926535897931"
      ]
    },
    {
      "cell_type": "code",
      "source": [
        "#To display the value of a variable, you can use a print statement:\n",
        "print(message)"
      ],
      "metadata": {
        "colab": {
          "base_uri": "https://localhost:8080/"
        },
        "id": "py53ZChJ9CWn",
        "outputId": "562a11a4-7d5e-4f69-c34c-fc446a2706ff"
      },
      "execution_count": 2,
      "outputs": [
        {
          "output_type": "stream",
          "name": "stdout",
          "text": [
            "And now for something completely different\n"
          ]
        }
      ]
    },
    {
      "cell_type": "markdown",
      "source": [
        "## `Statements`\n",
        "A statement is a unit of code that the Python interpreter can execute.\n",
        "We have seen two kinds of statements:\n",
        "\n",
        "\n",
        "*   print being an expression statement\n",
        "*   and assignment.\n",
        "\n"
      ],
      "metadata": {
        "id": "X2cVuaEu9--t"
      }
    },
    {
      "cell_type": "code",
      "source": [
        "x = 2           #assignment statement\n",
        "print(x)        #print statement, expression statement"
      ],
      "metadata": {
        "colab": {
          "base_uri": "https://localhost:8080/"
        },
        "id": "tyG9WAEU9PG3",
        "outputId": "e13ff446-d863-4359-e8bf-4f4df0cb2f56"
      },
      "execution_count": 3,
      "outputs": [
        {
          "output_type": "stream",
          "name": "stdout",
          "text": [
            "2\n"
          ]
        }
      ]
    },
    {
      "cell_type": "markdown",
      "source": [
        "## Operators and Operands\n",
        "\n",
        "Operators are special symbols that represent computations like addition and multiplication. The values the operator is applied to are called operands.\n",
        "\n",
        "The operators +, -, *, /, and ** perform addition, subtraction, multiplication, division, and exponentiation, as in the following examples:\n",
        "\n",
        "\n",
        "\n",
        "* Follows the BODMAS Rule.\n",
        "\n"
      ],
      "metadata": {
        "id": "SbZjpjFl-zBU"
      }
    },
    {
      "cell_type": "code",
      "source": [
        "20+32\n",
        "hour = 1\n",
        "minute = 60\n",
        "hour*60+minute\n",
        "minute/60\n",
        "5**2\n",
        "(5+9)*(15-7)"
      ],
      "metadata": {
        "colab": {
          "base_uri": "https://localhost:8080/"
        },
        "id": "RnEvn-4_-s1w",
        "outputId": "8af386b2-dc49-4252-851a-bddbc1113cbd"
      },
      "execution_count": 5,
      "outputs": [
        {
          "output_type": "execute_result",
          "data": {
            "text/plain": [
              "112"
            ]
          },
          "metadata": {},
          "execution_count": 5
        }
      ]
    },
    {
      "cell_type": "markdown",
      "source": [
        "## Expressions\n",
        "\n",
        "An expression is a combination of values, variables, and operators. A value all by itself is considered an expression, and so is a variable, so the following are all legal expressions (assuming that the variable x has been assigned a value)"
      ],
      "metadata": {
        "id": "Megzu7qz_NMm"
      }
    },
    {
      "cell_type": "code",
      "source": [],
      "metadata": {
        "id": "3q3PERxy-8-X"
      },
      "execution_count": null,
      "outputs": []
    }
  ]
}