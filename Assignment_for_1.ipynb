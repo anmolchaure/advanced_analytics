{
  "nbformat": 4,
  "nbformat_minor": 0,
  "metadata": {
    "colab": {
      "provenance": [],
      "authorship_tag": "ABX9TyMpQxZKf+huhHdbk+3NZ6PI",
      "include_colab_link": true
    },
    "kernelspec": {
      "name": "python3",
      "display_name": "Python 3"
    },
    "language_info": {
      "name": "python"
    }
  },
  "cells": [
    {
      "cell_type": "markdown",
      "metadata": {
        "id": "view-in-github",
        "colab_type": "text"
      },
      "source": [
        "<a href=\"https://colab.research.google.com/github/anmolchaure/advanced_analytics/blob/main/Assignment_for_1.ipynb\" target=\"_parent\"><img src=\"https://colab.research.google.com/assets/colab-badge.svg\" alt=\"Open In Colab\"/></a>"
      ]
    },
    {
      "cell_type": "markdown",
      "source": [
        "## Exercise 1: Write a program that uses input to prompt a user for their name and then welcomes them.\n",
        "\n",
        "Enter your name: Chuck\n",
        "\n",
        "Output:\n",
        "Hello Chuck\n",
        "\n"
      ],
      "metadata": {
        "id": "1aFuBsPHAABi"
      }
    },
    {
      "cell_type": "code",
      "execution_count": null,
      "metadata": {
        "id": "ruxSZFd4_uY4"
      },
      "outputs": [],
      "source": [
        "name = input()\n",
        "print(\"Hello,\",name)"
      ]
    },
    {
      "cell_type": "markdown",
      "source": [
        "## Exercise 2: Write a program to prompt the user for hours and rate per hour to compute gross pay.\n",
        "\n",
        "Enter Hours: 35\n",
        "\n",
        "Enter Rate: 2.75\n",
        "\n",
        "Pay: 96.25\n",
        "\n",
        "Output: Gross Pay"
      ],
      "metadata": {
        "id": "twon9xhHASdX"
      }
    },
    {
      "cell_type": "code",
      "source": [
        "hrs = int(input(\"number of hours: \"))\n",
        "rate = float(input(\"rate per hour: \"))\n",
        "#pay = int(input())\n",
        "\n",
        "gross_pay = hrs * rate\n",
        "print(gross_pay)"
      ],
      "metadata": {
        "colab": {
          "base_uri": "https://localhost:8080/"
        },
        "id": "l0ibEi6QAZCI",
        "outputId": "790ebc20-a7a0-4870-96e3-ec9f135566b1"
      },
      "execution_count": 1,
      "outputs": [
        {
          "output_type": "stream",
          "name": "stdout",
          "text": [
            "number of hours: 35\n",
            "rate per hour: 2.75\n",
            "96.25\n"
          ]
        }
      ]
    },
    {
      "cell_type": "code",
      "source": [],
      "metadata": {
        "id": "Rt7RFVduBpax"
      },
      "execution_count": null,
      "outputs": []
    }
  ]
}