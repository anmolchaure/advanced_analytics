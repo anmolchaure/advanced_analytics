{
  "nbformat": 4,
  "nbformat_minor": 0,
  "metadata": {
    "colab": {
      "provenance": [],
      "authorship_tag": "ABX9TyMmCm358iZRRSIzES/UeSCK",
      "include_colab_link": true
    },
    "kernelspec": {
      "name": "python3",
      "display_name": "Python 3"
    },
    "language_info": {
      "name": "python"
    }
  },
  "cells": [
    {
      "cell_type": "markdown",
      "metadata": {
        "id": "view-in-github",
        "colab_type": "text"
      },
      "source": [
        "<a href=\"https://colab.research.google.com/github/anmolchaure/advanced_analytics/blob/main/Basicsofpython.ipynb\" target=\"_parent\"><img src=\"https://colab.research.google.com/assets/colab-badge.svg\" alt=\"Open In Colab\"/></a>"
      ]
    },
    {
      "cell_type": "markdown",
      "source": [
        "## What are variables?\n",
        "One of the most powerful features of a programming language is the ability to manipulate variables. A variable is a name that refers to a value.\n",
        "\n"
      ],
      "metadata": {
        "id": "bb5ODTDP7kTC"
      }
    },
    {
      "cell_type": "code",
      "execution_count": null,
      "metadata": {
        "id": "sGE8Z3lG7UIf"
      },
      "outputs": [],
      "source": [
        "#An assignment statement creates new variables and gives them values:\n",
        "\n",
        "message = 'And now for something completely different'\n",
        "n = 17\n",
        "pi = 3.1415926535897931"
      ]
    },
    {
      "cell_type": "code",
      "source": [
        "#To display the value of a variable, you can use a print statement:\n",
        "print(message)"
      ],
      "metadata": {
        "colab": {
          "base_uri": "https://localhost:8080/"
        },
        "id": "py53ZChJ9CWn",
        "outputId": "562a11a4-7d5e-4f69-c34c-fc446a2706ff"
      },
      "execution_count": null,
      "outputs": [
        {
          "output_type": "stream",
          "name": "stdout",
          "text": [
            "And now for something completely different\n"
          ]
        }
      ]
    },
    {
      "cell_type": "markdown",
      "source": [
        "## `Statements`\n",
        "A statement is a unit of code that the Python interpreter can execute.\n",
        "We have seen two kinds of statements:\n",
        "\n",
        "\n",
        "*   print being an expression statement\n",
        "*   and assignment.\n",
        "\n"
      ],
      "metadata": {
        "id": "X2cVuaEu9--t"
      }
    },
    {
      "cell_type": "code",
      "source": [
        "x = 2           #assignment statement\n",
        "print(x)        #print statement, expression statement"
      ],
      "metadata": {
        "colab": {
          "base_uri": "https://localhost:8080/"
        },
        "id": "tyG9WAEU9PG3",
        "outputId": "e13ff446-d863-4359-e8bf-4f4df0cb2f56"
      },
      "execution_count": null,
      "outputs": [
        {
          "output_type": "stream",
          "name": "stdout",
          "text": [
            "2\n"
          ]
        }
      ]
    },
    {
      "cell_type": "markdown",
      "source": [
        "## Operators and Operands\n",
        "\n",
        "Operators are special symbols that represent computations like addition and multiplication. The values the operator is applied to are called operands.\n",
        "\n",
        "The operators +, -, *, /, and ** perform addition, subtraction, multiplication, division, and exponentiation, as in the following examples:\n",
        "\n",
        "\n",
        "\n",
        "* Follows the BODMAS Rule.\n",
        "\n"
      ],
      "metadata": {
        "id": "SbZjpjFl-zBU"
      }
    },
    {
      "cell_type": "code",
      "source": [
        "20+32\n",
        "hour = 1\n",
        "minute = 60\n",
        "hour*60+minute\n",
        "minute/60\n",
        "5**2\n",
        "(5+9)*(15-7)"
      ],
      "metadata": {
        "colab": {
          "base_uri": "https://localhost:8080/"
        },
        "id": "RnEvn-4_-s1w",
        "outputId": "8af386b2-dc49-4252-851a-bddbc1113cbd"
      },
      "execution_count": null,
      "outputs": [
        {
          "output_type": "execute_result",
          "data": {
            "text/plain": [
              "112"
            ]
          },
          "metadata": {},
          "execution_count": 5
        }
      ]
    },
    {
      "cell_type": "markdown",
      "source": [
        "## Expressions\n",
        "\n",
        "An expression is a combination of values, variables, and operators. A value all by itself is considered an expression, and so is a variable, so the following are all legal expressions (assuming that the variable x has been assigned a value)"
      ],
      "metadata": {
        "id": "Megzu7qz_NMm"
      }
    },
    {
      "cell_type": "code",
      "source": [
        "x"
      ],
      "metadata": {
        "colab": {
          "base_uri": "https://localhost:8080/"
        },
        "id": "pXF60LGJCil3",
        "outputId": "0d7c2298-283a-46d6-b1ed-342d527a7c80"
      },
      "execution_count": 3,
      "outputs": [
        {
          "output_type": "execute_result",
          "data": {
            "text/plain": [
              "1"
            ]
          },
          "metadata": {},
          "execution_count": 3
        }
      ]
    },
    {
      "cell_type": "code",
      "source": [
        "17\n",
        "x = 1\n",
        "x + 17"
      ],
      "metadata": {
        "id": "3q3PERxy-8-X",
        "colab": {
          "base_uri": "https://localhost:8080/"
        },
        "outputId": "5ab487a6-cc78-4de3-b23e-a61ab466c37b"
      },
      "execution_count": 2,
      "outputs": [
        {
          "output_type": "execute_result",
          "data": {
            "text/plain": [
              "18"
            ]
          },
          "metadata": {},
          "execution_count": 2
        }
      ]
    },
    {
      "cell_type": "markdown",
      "source": [
        "## Order of Expression\n",
        "\n",
        "When more than one operator appears in an expression, the order of evaluation depends on the rules of precedence.\n",
        "\n",
        "\n",
        "\n",
        "Parentheses have the highest precedence and can be used to force an expression to evaluate in the order you want. Since expressions in parentheses are evaluated first, 2 * (3-1) is 4, and (1+1)**(5-2) is 8. You can also use parentheses to make an expression easier to read, as in (minute * 100) / 60, even if it doesn't change the result.\n",
        "\n",
        "Exponentiation has the next highest precedence, so 2**1+1 is 3, not 4, and 3*1**3 is 3, not 27.\n",
        "\n",
        "Multiplication and Division have the same precedence, which is higher than Addition and Subtraction, which also have the same precedence. So 2*3-1 is 5, not 4, and 6+4/2 is 8, not 5.\n",
        "\n",
        "Operators with the same precedence are evaluated from left to right. So the expression 5-3-1 is 1, not 3, because the 5-3 happens first and then 1 is subtracted from 2."
      ],
      "metadata": {
        "id": "ABcFxoMKCrAU"
      }
    },
    {
      "cell_type": "code",
      "source": [],
      "metadata": {
        "id": "X_h-swoBC5Pf"
      },
      "execution_count": null,
      "outputs": []
    },
    {
      "cell_type": "markdown",
      "source": [
        "## Modulus operator\n",
        "\n",
        "\n",
        "The modulus operator works on integers and yields the remainder when the first operand is divided by the second. In Python, the modulus operator is a percent sign (%)."
      ],
      "metadata": {
        "id": "NwA_laZsC5rE"
      }
    },
    {
      "cell_type": "code",
      "source": [
        "quotient = 7 // 3\n",
        "print(quotient)"
      ],
      "metadata": {
        "colab": {
          "base_uri": "https://localhost:8080/"
        },
        "id": "H7_gyGHeCcTJ",
        "outputId": "aacb1436-0094-447d-b499-d90d18c9a33e"
      },
      "execution_count": 5,
      "outputs": [
        {
          "output_type": "stream",
          "name": "stdout",
          "text": [
            "2\n"
          ]
        }
      ]
    },
    {
      "cell_type": "markdown",
      "source": [
        "## String operations\n",
        "The + operator works with strings, but it is not addition in the mathematical sense. Instead it performs concatenation, which means joining the strings by linking them end to end."
      ],
      "metadata": {
        "id": "i56vsB4EDHm4"
      }
    },
    {
      "cell_type": "code",
      "source": [
        ">>> first = 10\n",
        ">>> second = 15\n",
        ">>> print(first+second)"
      ],
      "metadata": {
        "colab": {
          "base_uri": "https://localhost:8080/"
        },
        "id": "XvjUyWqEDBv8",
        "outputId": "873fe58e-cccc-4530-bf51-ced23d16c6f6"
      },
      "execution_count": 6,
      "outputs": [
        {
          "output_type": "stream",
          "name": "stdout",
          "text": [
            "25\n"
          ]
        }
      ]
    },
    {
      "cell_type": "markdown",
      "source": [
        "The * operator also works with strings by multiplying the content of a string by an integer. For example:\n",
        "\n"
      ],
      "metadata": {
        "id": "wYEZiSeYDUdK"
      }
    },
    {
      "cell_type": "code",
      "source": [
        ">>> first = 'Test '\n",
        ">>> second = 3\n",
        ">>> print(first * second)"
      ],
      "metadata": {
        "colab": {
          "base_uri": "https://localhost:8080/"
        },
        "id": "udjiTktmDPw8",
        "outputId": "e99d7e88-2e9b-4e3f-dd3c-8ba25b801575"
      },
      "execution_count": 8,
      "outputs": [
        {
          "output_type": "stream",
          "name": "stdout",
          "text": [
            "Test Test Test \n"
          ]
        }
      ]
    },
    {
      "cell_type": "markdown",
      "source": [
        "## Asking the user for input\n",
        "\n",
        "Sometimes we would like to take the value for a variable from the user via their keyboard. Python provides a built-in function called input that gets input from the keyboard\n",
        "\n"
      ],
      "metadata": {
        "id": "f_c0ruHnDpjn"
      }
    },
    {
      "cell_type": "code",
      "source": [
        "inp = input()"
      ],
      "metadata": {
        "colab": {
          "base_uri": "https://localhost:8080/"
        },
        "id": "hiA-N6KFDWuK",
        "outputId": "53000c1e-f681-4d35-bbcd-1db5c4147e5d"
      },
      "execution_count": 9,
      "outputs": [
        {
          "name": "stdout",
          "output_type": "stream",
          "text": [
            "some silly stuff\n"
          ]
        }
      ]
    },
    {
      "cell_type": "markdown",
      "source": [
        "The sequence \\n at the end of the prompt represents a newline, which is a special character that causes a line break. That's why the user's input appears below the prompt."
      ],
      "metadata": {
        "id": "etmuUXHbEB-e"
      }
    },
    {
      "cell_type": "markdown",
      "source": [
        "## Comments:\n",
        "\n",
        "As programs get bigger and more complicated, they get more difficult to read. Formal languages are dense, and it is often difficult to look at a piece of code and figure out what it is doing, or why.\n",
        "\n",
        "For this reason, it is a good idea to add notes to your programs to explain in natural language what the program is doing. These notes are called comments, and in Python they start with the # symbol:"
      ],
      "metadata": {
        "id": "qhSnpjhIEKC2"
      }
    },
    {
      "cell_type": "code",
      "source": [
        "# compute the percentage of the hour that has elapsed\n",
        "minute = 1\n",
        "percentage = (minute * 100) / 60"
      ],
      "metadata": {
        "id": "egNERC_PD5Fw"
      },
      "execution_count": 11,
      "outputs": []
    },
    {
      "cell_type": "code",
      "source": [],
      "metadata": {
        "id": "R81ll1YzEVip"
      },
      "execution_count": null,
      "outputs": []
    }
  ]
}